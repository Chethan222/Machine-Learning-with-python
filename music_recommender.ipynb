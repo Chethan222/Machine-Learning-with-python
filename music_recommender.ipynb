{
 "cells": [
  {
   "cell_type": "markdown",
   "id": "3b7e70cc",
   "metadata": {},
   "source": [
    "### Importing Libraries"
   ]
  },
  {
   "cell_type": "code",
   "execution_count": 44,
   "id": "reserved-laser",
   "metadata": {},
   "outputs": [],
   "source": [
    "import pandas as pd \n",
    "from sklearn.tree import DecisionTreeClassifier\n",
    "from sklearn.model_selection import train_test_split\n",
    "from sklearn.metrics import accuracy_score\n",
    "import joblib\n"
   ]
  },
  {
   "cell_type": "markdown",
   "id": "5ca374de",
   "metadata": {},
   "source": [
    "### Loading data and splitting data"
   ]
  },
  {
   "cell_type": "code",
   "execution_count": 45,
   "id": "2e931024",
   "metadata": {},
   "outputs": [],
   "source": [
    "\n",
    "music_data = pd.read_csv('music.csv')\n",
    "# print(music_data)\n",
    "\n",
    "#Creates new dataset without column 'genre'\n",
    "X=music_data.drop(columns=['genre'])\n",
    "y=music_data['genre']\n",
    "\n",
    "#Splitting dataset for training and testing\n",
    "X_train,X_test,y_train,y_test=train_test_split(X,y,test_size=0.2)\n",
    "\n"
   ]
  },
  {
   "cell_type": "markdown",
   "id": "c1941a2f",
   "metadata": {},
   "source": [
    "### Creating Model and fitting trianing data"
   ]
  },
  {
   "cell_type": "code",
   "execution_count": 46,
   "id": "eda69ad9",
   "metadata": {},
   "outputs": [
    {
     "data": {
      "text/plain": [
       "DecisionTreeClassifier()"
      ]
     },
     "execution_count": 46,
     "metadata": {},
     "output_type": "execute_result"
    }
   ],
   "source": [
    "#Building model\n",
    "model = DecisionTreeClassifier()\n",
    "\n",
    "#Inputting training dataset to the model\n",
    "model.fit(X_train,y_train)\n",
    "\n",
    "model"
   ]
  },
  {
   "cell_type": "markdown",
   "id": "a7fc5c6d",
   "metadata": {},
   "source": [
    "### Storing the model"
   ]
  },
  {
   "cell_type": "code",
   "execution_count": 47,
   "id": "sitting-input",
   "metadata": {},
   "outputs": [
    {
     "data": {
      "text/plain": [
       "['music-recommender.joblib']"
      ]
     },
     "execution_count": 47,
     "metadata": {},
     "output_type": "execute_result"
    }
   ],
   "source": [
    "#Storing the model into joblib file\n",
    "joblib.dump(model,'music-recommender.joblib')\n"
   ]
  },
  {
   "cell_type": "markdown",
   "id": "b6debcb0",
   "metadata": {},
   "source": [
    "### Loading the model from joblib file"
   ]
  },
  {
   "cell_type": "code",
   "execution_count": 48,
   "id": "b20b24b4",
   "metadata": {},
   "outputs": [],
   "source": [
    "model = joblib.load('music-recommender.joblib')"
   ]
  },
  {
   "cell_type": "markdown",
   "id": "b0fe4508",
   "metadata": {},
   "source": [
    "### Making predictions and Evaluation"
   ]
  },
  {
   "cell_type": "code",
   "execution_count": 49,
   "id": "a36abb91",
   "metadata": {},
   "outputs": [
    {
     "name": "stdout",
     "output_type": "stream",
     "text": [
      "1.0\n"
     ]
    }
   ],
   "source": [
    "\n",
    "#Making predictions\n",
    "predictions=model.predict(X_test)\n",
    "\n",
    "#Evaluating the accuracy\n",
    "score = accuracy_score(y_test,predictions)\n",
    "\n",
    "print(score)"
   ]
  },
  {
   "cell_type": "code",
   "execution_count": null,
   "id": "463abce7",
   "metadata": {},
   "outputs": [],
   "source": []
  },
  {
   "cell_type": "code",
   "execution_count": null,
   "id": "12b50da7",
   "metadata": {},
   "outputs": [],
   "source": []
  }
 ],
 "metadata": {
  "kernelspec": {
   "display_name": "Python 3 (ipykernel)",
   "language": "python",
   "name": "python3"
  },
  "language_info": {
   "codemirror_mode": {
    "name": "ipython",
    "version": 3
   },
   "file_extension": ".py",
   "mimetype": "text/x-python",
   "name": "python",
   "nbconvert_exporter": "python",
   "pygments_lexer": "ipython3",
   "version": "3.9.8"
  }
 },
 "nbformat": 4,
 "nbformat_minor": 5
}
